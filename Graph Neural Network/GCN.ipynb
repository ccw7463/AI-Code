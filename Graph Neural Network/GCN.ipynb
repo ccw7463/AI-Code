{
 "cells": [
  {
   "attachments": {},
   "cell_type": "markdown",
   "metadata": {},
   "source": [
    "##### 코드출처 : https://uvadlc-notebooks.readthedocs.io/en/latest/tutorial_notebooks/tutorial7/GNN_overview.html#Graph-Neural-Networks"
   ]
  },
  {
   "cell_type": "code",
   "execution_count": 2,
   "metadata": {},
   "outputs": [],
   "source": [
    "import torch \n",
    "import torch.nn as nn"
   ]
  },
  {
   "attachments": {},
   "cell_type": "markdown",
   "metadata": {},
   "source": [
    "torch geometric 설치"
   ]
  },
  {
   "cell_type": "code",
   "execution_count": 8,
   "metadata": {},
   "outputs": [
    {
     "name": "stdout",
     "output_type": "stream",
     "text": [
      "Looking in links: https://pytorch-geometric.com/whl/torch-1.13.0+cu117.html\n",
      "Collecting torch-scatter\n",
      "  Downloading https://data.pyg.org/whl/torch-1.13.0%2Bcu117/torch_scatter-2.1.0%2Bpt113cu117-cp37-cp37m-win_amd64.whl (3.6 MB)\n",
      "     ---------------------------------------- 3.6/3.6 MB 3.6 MB/s eta 0:00:00\n",
      "Installing collected packages: torch-scatter\n",
      "Successfully installed torch-scatter-2.1.0+pt113cu117\n",
      "Looking in links: https://pytorch-geometric.com/whl/torch-1.13.0+cu117.html\n",
      "Collecting torch-sparse\n",
      "  Downloading https://data.pyg.org/whl/torch-1.13.0%2Bcu117/torch_sparse-0.6.15%2Bpt113cu117-cp37-cp37m-win_amd64.whl (3.1 MB)\n",
      "     ---------------------------------------- 3.1/3.1 MB 3.2 MB/s eta 0:00:00\n",
      "Requirement already satisfied: scipy in c:\\users\\chang\\anaconda3\\envs\\pytorch\\lib\\site-packages (from torch-sparse) (1.7.3)\n",
      "Requirement already satisfied: numpy<1.23.0,>=1.16.5 in c:\\users\\chang\\anaconda3\\envs\\pytorch\\lib\\site-packages (from scipy->torch-sparse) (1.21.5)\n",
      "Installing collected packages: torch-sparse\n",
      "Successfully installed torch-sparse-0.6.15+pt113cu117\n",
      "Looking in links: https://pytorch-geometric.com/whl/torch-1.13.0+cu117.html\n",
      "Collecting torch-cluster\n",
      "  Downloading https://data.pyg.org/whl/torch-1.13.0%2Bcu117/torch_cluster-1.6.0%2Bpt113cu117-cp37-cp37m-win_amd64.whl (2.3 MB)\n",
      "     ---------------------------------------- 2.3/2.3 MB 2.4 MB/s eta 0:00:00\n",
      "Requirement already satisfied: scipy in c:\\users\\chang\\anaconda3\\envs\\pytorch\\lib\\site-packages (from torch-cluster) (1.7.3)\n",
      "Requirement already satisfied: numpy<1.23.0,>=1.16.5 in c:\\users\\chang\\anaconda3\\envs\\pytorch\\lib\\site-packages (from scipy->torch-cluster) (1.21.5)\n",
      "Installing collected packages: torch-cluster\n",
      "Successfully installed torch-cluster-1.6.0+pt113cu117\n",
      "Looking in links: https://pytorch-geometric.com/whl/torch-1.13.0+cu117.html\n",
      "Collecting torch-spline-conv\n",
      "  Downloading https://data.pyg.org/whl/torch-1.13.0%2Bcu117/torch_spline_conv-1.2.1%2Bpt113cu117-cp37-cp37m-win_amd64.whl (631 kB)\n",
      "     ------------------------------------ 631.2/631.2 kB 903.9 kB/s eta 0:00:00\n",
      "Installing collected packages: torch-spline-conv\n",
      "Successfully installed torch-spline-conv-1.2.1+pt113cu117\n",
      "Requirement already satisfied: torch-geometric in c:\\users\\chang\\anaconda3\\envs\\pytorch\\lib\\site-packages (2.2.0)\n",
      "Requirement already satisfied: jinja2 in c:\\users\\chang\\anaconda3\\envs\\pytorch\\lib\\site-packages (from torch-geometric) (3.1.2)\n",
      "Requirement already satisfied: scikit-learn in c:\\users\\chang\\anaconda3\\envs\\pytorch\\lib\\site-packages (from torch-geometric) (1.0.2)\n",
      "Requirement already satisfied: requests in c:\\users\\chang\\anaconda3\\envs\\pytorch\\lib\\site-packages (from torch-geometric) (2.28.1)\n",
      "Requirement already satisfied: numpy in c:\\users\\chang\\anaconda3\\envs\\pytorch\\lib\\site-packages (from torch-geometric) (1.21.5)\n",
      "Requirement already satisfied: psutil>=5.8.0 in c:\\users\\chang\\anaconda3\\envs\\pytorch\\lib\\site-packages (from torch-geometric) (5.9.4)\n",
      "Requirement already satisfied: scipy in c:\\users\\chang\\anaconda3\\envs\\pytorch\\lib\\site-packages (from torch-geometric) (1.7.3)\n",
      "Requirement already satisfied: pyparsing in c:\\users\\chang\\anaconda3\\envs\\pytorch\\lib\\site-packages (from torch-geometric) (3.0.9)\n",
      "Requirement already satisfied: tqdm in c:\\users\\chang\\anaconda3\\envs\\pytorch\\lib\\site-packages (from torch-geometric) (4.64.1)\n",
      "Requirement already satisfied: MarkupSafe>=2.0 in c:\\users\\chang\\anaconda3\\envs\\pytorch\\lib\\site-packages (from jinja2->torch-geometric) (2.1.1)\n",
      "Requirement already satisfied: idna<4,>=2.5 in c:\\users\\chang\\anaconda3\\envs\\pytorch\\lib\\site-packages (from requests->torch-geometric) (3.4)\n",
      "Requirement already satisfied: certifi>=2017.4.17 in c:\\users\\chang\\anaconda3\\envs\\pytorch\\lib\\site-packages (from requests->torch-geometric) (2022.9.24)\n",
      "Requirement already satisfied: urllib3<1.27,>=1.21.1 in c:\\users\\chang\\anaconda3\\envs\\pytorch\\lib\\site-packages (from requests->torch-geometric) (1.26.12)\n",
      "Requirement already satisfied: charset-normalizer<3,>=2 in c:\\users\\chang\\anaconda3\\envs\\pytorch\\lib\\site-packages (from requests->torch-geometric) (2.0.4)\n",
      "Requirement already satisfied: joblib>=0.11 in c:\\users\\chang\\anaconda3\\envs\\pytorch\\lib\\site-packages (from scikit-learn->torch-geometric) (1.2.0)\n",
      "Requirement already satisfied: threadpoolctl>=2.0.0 in c:\\users\\chang\\anaconda3\\envs\\pytorch\\lib\\site-packages (from scikit-learn->torch-geometric) (3.1.0)\n",
      "Requirement already satisfied: colorama in c:\\users\\chang\\anaconda3\\envs\\pytorch\\lib\\site-packages (from tqdm->torch-geometric) (0.4.6)\n"
     ]
    }
   ],
   "source": [
    "try:\n",
    "    import torch_geometric\n",
    "except ModuleNotFoundError:\n",
    "    # Installing torch geometric packages with specific CUDA+PyTorch version.\n",
    "    # See https://pytorch-geometric.readthedocs.io/en/latest/notes/installation.html for details\n",
    "    TORCH = torch.__version__.split('+')[0]\n",
    "    CUDA = 'cu' + torch.version.cuda.replace('.','')\n",
    "\n",
    "    !pip install torch-scatter     -f https://pytorch-geometric.com/whl/torch-{TORCH}+{CUDA}.html\n",
    "    !pip install torch-sparse      -f https://pytorch-geometric.com/whl/torch-{TORCH}+{CUDA}.html\n",
    "    !pip install torch-cluster     -f https://pytorch-geometric.com/whl/torch-{TORCH}+{CUDA}.html\n",
    "    !pip install torch-spline-conv -f https://pytorch-geometric.com/whl/torch-{TORCH}+{CUDA}.html\n",
    "    !pip install torch-geometric"
   ]
  },
  {
   "cell_type": "code",
   "execution_count": 14,
   "metadata": {},
   "outputs": [],
   "source": [
    "import torch_geometric\n",
    "import torch_geometric.nn as geom_nn\n",
    "import torch_geometric.data as geom_data"
   ]
  },
  {
   "cell_type": "code",
   "execution_count": 15,
   "metadata": {},
   "outputs": [],
   "source": [
    "gnn_layer_by_name = {\n",
    "    \"GCN\": geom_nn.GCNConv,\n",
    "    \"GAT\": geom_nn.GATConv,\n",
    "    \"GraphConv\": geom_nn.GraphConv\n",
    "}"
   ]
  },
  {
   "cell_type": "code",
   "execution_count": null,
   "metadata": {},
   "outputs": [],
   "source": [
    "class GNNModel(nn.Module):\n",
    "    def __init__(self):\n",
    "        super(GNNModel,self).__init__()\n",
    "        self.\n",
    "\n",
    "\n",
    "    def forward(self):\n",
    "        return"
   ]
  }
 ],
 "metadata": {
  "kernelspec": {
   "display_name": "pytorch",
   "language": "python",
   "name": "python3"
  },
  "language_info": {
   "codemirror_mode": {
    "name": "ipython",
    "version": 3
   },
   "file_extension": ".py",
   "mimetype": "text/x-python",
   "name": "python",
   "nbconvert_exporter": "python",
   "pygments_lexer": "ipython3",
   "version": "3.7.15"
  },
  "orig_nbformat": 4,
  "vscode": {
   "interpreter": {
    "hash": "98fb658fc8779e6136f671765f304aa90b381a69e0e3fde0fbe10c53a5640cfd"
   }
  }
 },
 "nbformat": 4,
 "nbformat_minor": 2
}
