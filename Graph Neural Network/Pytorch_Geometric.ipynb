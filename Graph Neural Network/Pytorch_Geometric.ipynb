{
 "cells": [
  {
   "cell_type": "markdown",
   "metadata": {},
   "source": [
    "##### 자료출처 : https://pytorch-geometric.readthedocs.io/en/latest/notes/introduction.html#"
   ]
  },
  {
   "cell_type": "markdown",
   "metadata": {},
   "source": [
    "torch geometric 설치"
   ]
  },
  {
   "cell_type": "code",
   "execution_count": 1,
   "metadata": {},
   "outputs": [
    {
     "name": "stderr",
     "output_type": "stream",
     "text": [
      "c:\\Users\\chang\\Anaconda3\\envs\\pytorch\\lib\\site-packages\\tqdm\\auto.py:22: TqdmWarning: IProgress not found. Please update jupyter and ipywidgets. See https://ipywidgets.readthedocs.io/en/stable/user_install.html\n",
      "  from .autonotebook import tqdm as notebook_tqdm\n"
     ]
    }
   ],
   "source": [
    "import torch\n",
    "\n",
    "try:\n",
    "    import torch_geometric\n",
    "except ModuleNotFoundError:\n",
    "    # Installing torch geometric packages with specific CUDA+PyTorch version.\n",
    "    # See https://pytorch-geometric.readthedocs.io/en/latest/notes/installation.html for details\n",
    "    TORCH = torch.__version__.split('+')[0]\n",
    "    CUDA = 'cu' + torch.version.cuda.replace('.','')\n",
    "\n",
    "    !pip install torch-scatter     -f https://pytorch-geometric.com/whl/torch-{TORCH}+{CUDA}.html\n",
    "    !pip install torch-sparse      -f https://pytorch-geometric.com/whl/torch-{TORCH}+{CUDA}.html\n",
    "    !pip install torch-cluster     -f https://pytorch-geometric.com/whl/torch-{TORCH}+{CUDA}.html\n",
    "    !pip install torch-spline-conv -f https://pytorch-geometric.com/whl/torch-{TORCH}+{CUDA}.html\n",
    "    !pip install torch-geometric"
   ]
  },
  {
   "cell_type": "markdown",
   "metadata": {},
   "source": [
    "### 1. Data Handling of Graphs"
   ]
  },
  {
   "cell_type": "code",
   "execution_count": 6,
   "metadata": {},
   "outputs": [],
   "source": [
    "import torch\n",
    "import torch_geometric\n",
    "from torch_geometric.data import Data"
   ]
  },
  {
   "cell_type": "code",
   "execution_count": 3,
   "metadata": {},
   "outputs": [
    {
     "name": "stdout",
     "output_type": "stream",
     "text": [
      "start node : tensor([0, 1, 1, 2, 4])\n",
      "end node : tensor([1, 0, 2, 1, 4])\n",
      "Data(x=[5, 1], edge_index=[2, 5]) \n",
      "\n",
      "※ x의 좌측값이 노드개수, edge_index의 우측값이 엣지개수 입니다. ※\n"
     ]
    }
   ],
   "source": [
    "# 1. 그래프 만들기\n",
    "\n",
    "# 노드 만들기 \n",
    "x = torch.tensor([[-3],[0],[3],[5],[-2]], dtype=torch.float) # 순서대로 Node(0,1,2,..) 번호가 부여된다.          \n",
    "\n",
    "# 엣지 만들기\n",
    "edge_index = torch.tensor([[0,1,1,2,4],\n",
    "                           [1,0,2,1,4]], dtype=torch.long) # 위 부여된 노드 번호대로 edge를 연결한다.\n",
    "print(\"start node :\",edge_index[0])\n",
    "print(\"end node :\",edge_index[1])\n",
    "\n",
    "graph = Data(x=x, edge_index=edge_index)\n",
    "print(graph,'\\n')\n",
    "print(\"※ x의 좌측값이 노드개수, edge_index의 우측값이 엣지개수 입니다. ※\")"
   ]
  },
  {
   "cell_type": "code",
   "execution_count": 7,
   "metadata": {},
   "outputs": [],
   "source": [
    "import matplotlib.pyplot as plt\n",
    "import networkx as nx"
   ]
  },
  {
   "cell_type": "code",
   "execution_count": 19,
   "metadata": {},
   "outputs": [
    {
     "data": {
      "image/png": "[encoded data removed]",
      "text/plain": [
       "<Figure size 700x700 with 1 Axes>"
      ]
     },
     "metadata": {},
     "output_type": "display_data"
    }
   ],
   "source": [
    "plt.figure(figsize=(7, 7))\n",
    "\n",
    "# torch_geometric.data.Data : homogeneous graph(동종그래프)의 인스턴스를 생성\n",
    "cora = torch_geometric.data.Data(x=graph.x, edge_index=graph.edge_index)\n",
    "\n",
    "# torch_geometric.data.Data 인스턴스 --> networkx.Graph 로 변환\n",
    "g = torch_geometric.utils.to_networkx(cora, to_undirected=True)\n",
    "\n",
    "# 플로팅 (nx.drwa_networkx 또는 nx.draw)\n",
    "nx.draw_networkx(g, cmap=plt.get_cmap('jet'),node_size=5,linewidths=6)"
   ]
  },
  {
   "cell_type": "code",
   "execution_count": 4,
   "metadata": {},
   "outputs": [],
   "source": [
    "# 2. 그래프 형태의 필수 조건을 갖췄는지 확인\n",
    "# graph.validate(raise_on_error=True)"
   ]
  },
  {
   "cell_type": "code",
   "execution_count": 5,
   "metadata": {},
   "outputs": [
    {
     "name": "stdout",
     "output_type": "stream",
     "text": [
      "그래프 KEY : ['edge_index', 'x']\n",
      "노드 수 : 5\n",
      "엣지 수 : 5\n",
      "노드 특징 행렬 : 1\n",
      "고립 노드 유무 : True\n",
      "셀프 루프 유무 : True\n",
      "그래프 방향성 여부 : False\n"
     ]
    }
   ],
   "source": [
    "# 3. 그래프 속성 확인\n",
    "print(\"그래프 KEY :\",graph.keys)\n",
    "print(\"노드 수 :\",graph.num_nodes) # 노드 수 \n",
    "print(\"엣지 수 :\",graph.num_edges) # 엣지 수\n",
    "print(\"노드 특징 행렬 :\",graph.num_node_features) # 노드의 특징 행렬 ( -1, 0, 1 로 각 1개씩이라 1 리턴)\n",
    "print(\"고립 노드 유무 :\",graph.has_isolated_nodes()) # 고립된 노드 유무 --> (4번째노드는 연결된 edge가 없음)\n",
    "print(\"셀프 루프 유무 :\",graph.has_self_loops()) # self loop 존재 유무 --> (5번째노드는 self loop 존재)\n",
    "print(\"그래프 방향성 여부 :\",graph.is_directed()) # 그래프의 방향성 여부 "
   ]
  },
  {
   "cell_type": "code",
   "execution_count": 6,
   "metadata": {},
   "outputs": [],
   "source": [
    "# 4. graph 객체를 cpu / gpu 변환 가능\n",
    "device = torch.device('cuda')\n",
    "graph = graph.to(device)"
   ]
  },
  {
   "cell_type": "markdown",
   "metadata": {},
   "source": [
    "### 2. Common Benchmark Datasets"
   ]
  },
  {
   "cell_type": "code",
   "execution_count": 7,
   "metadata": {},
   "outputs": [
    {
     "name": "stdout",
     "output_type": "stream",
     "text": [
      "전체 그래프 수 : 600\n",
      "====== 0번째 그래프의 특징은 다음과 같습니다. ======\n",
      "그래프 KEY : ['edge_index', 'x', 'y']\n",
      "노드 수 : 37\n",
      "엣지 수 : 168\n",
      "노드 특징 행렬 : 3\n",
      "고립 노드 유무 : False\n",
      "셀프 루프 유무 : False\n",
      "그래프 방향성 여부 : False\n"
     ]
    }
   ],
   "source": [
    "from torch_geometric.datasets import TUDataset\n",
    "\n",
    "graph_dataset = TUDataset(root='/tmp/ENZYMES', name='ENZYMES')\n",
    "\n",
    "# 그래프 속성 확인\n",
    "print(f\"전체 그래프 수 : {len(graph_dataset)}\")\n",
    "for idx,graph in enumerate(graph_dataset):\n",
    "    print(f\"====== {idx}번째 그래프의 특징은 다음과 같습니다. ======\")\n",
    "    print(\"그래프 KEY :\",graph.keys)\n",
    "    print(\"노드 수 :\",graph.num_nodes) \n",
    "    print(\"엣지 수 :\",graph.num_edges) \n",
    "    print(\"노드 특징 행렬 :\",graph.num_node_features) \n",
    "    print(\"고립 노드 유무 :\",graph.has_isolated_nodes())\n",
    "    print(\"셀프 루프 유무 :\",graph.has_self_loops()) \n",
    "    print(\"그래프 방향성 여부 :\",graph.is_directed())\n",
    "    break\n",
    "\n",
    "# 데이터셋 추가 기능\n",
    "# 1. 학습/검증/테스트 분류가능\n",
    "train_dataset = graph_dataset[:540]\n",
    "test_dataset = graph_dataset[540:]\n",
    "\n",
    "# 2. 셔플가능\n",
    "train_dataset = train_dataset.shuffle()"
   ]
  },
  {
   "cell_type": "code",
   "execution_count": 8,
   "metadata": {},
   "outputs": [
    {
     "name": "stdout",
     "output_type": "stream",
     "text": [
      "전체 그래프 수 : 1\n",
      "====== 0번째 그래프의 특징은 다음과 같습니다. ======\n",
      "그래프 KEY : ['x', 'y', 'train_mask', 'test_mask', 'edge_index', 'val_mask']\n",
      "노드 수 : 2708\n",
      "엣지 수 : 10556\n",
      "노드 특징 행렬 : 1433\n",
      "고립 노드 유무 : False\n",
      "셀프 루프 유무 : False\n",
      "그래프 방향성 여부 : False\n",
      "======= 추가된 특징 =======\n",
      "학습되는 노드 수 : tensor(140)\n",
      "검증되는 노드 수 : tensor(500)\n",
      "테스트되는 노드 수 : tensor(1000)\n"
     ]
    }
   ],
   "source": [
    "from torch_geometric.datasets import Planetoid\n",
    "\n",
    "graph_dataset = Planetoid(root='/tmp/Cora', name='Cora')\n",
    "\n",
    "# 그래프 속성 확인\n",
    "print(f\"전체 그래프 수 : {len(graph_dataset)}\")\n",
    "for idx,graph in enumerate(graph_dataset):\n",
    "    print(f\"====== {idx}번째 그래프의 특징은 다음과 같습니다. ======\")\n",
    "    print(\"그래프 KEY :\",graph.keys)\n",
    "    print(\"노드 수 :\",graph.num_nodes) \n",
    "    print(\"엣지 수 :\",graph.num_edges) \n",
    "    print(\"노드 특징 행렬 :\",graph.num_node_features) \n",
    "    print(\"고립 노드 유무 :\",graph.has_isolated_nodes())\n",
    "    print(\"셀프 루프 유무 :\",graph.has_self_loops()) \n",
    "    print(\"그래프 방향성 여부 :\",graph.is_directed())\n",
    "\n",
    "    print(\"======= 추가된 특징 =======\")\n",
    "    print(\"학습되는 노드 수 :\", graph.train_mask.sum())\n",
    "    print(\"검증되는 노드 수 :\", graph.val_mask.sum())\n",
    "    print(\"테스트되는 노드 수 :\", graph.test_mask.sum())\n",
    "    break"
   ]
  },
  {
   "cell_type": "markdown",
   "metadata": {},
   "source": [
    "### 3. Mini-batches"
   ]
  },
  {
   "cell_type": "code",
   "execution_count": 9,
   "metadata": {},
   "outputs": [
    {
     "name": "stdout",
     "output_type": "stream",
     "text": [
      "데이터세트 총 길이 : 600 \n",
      "\n",
      "배치 개수 :18.75 \n",
      "\n",
      "0 : DataBatch(edge_index=[2, 4228], x=[1151, 21], y=[32], batch=[1151], ptr=[33])\n",
      "배치안 그래프 개수 : 32 \n",
      "\n"
     ]
    }
   ],
   "source": [
    "from torch_geometric.datasets import TUDataset\n",
    "from torch_geometric.loader import DataLoader\n",
    "\n",
    "graph_dataset = TUDataset(root='/tmp/ENZYMES', name='ENZYMES', use_node_attr=True)\n",
    "print(f\"데이터세트 총 길이 : {len(graph_dataset)}\",\"\\n\")\n",
    "\n",
    "loader = DataLoader(graph_dataset, batch_size=32, shuffle=True)\n",
    "print(f\"배치 개수 :{len(graph_dataset)/32}\",\"\\n\")\n",
    "\n",
    "for idx,batch in enumerate(loader):\n",
    "    print(f\"{idx} : {batch}\")\n",
    "    print(f\"배치안 그래프 개수 : {batch.num_graphs}\",\"\\n\")\n",
    "    break"
   ]
  },
  {
   "cell_type": "markdown",
   "metadata": {},
   "source": [
    "### 4. Data Transforms"
   ]
  },
  {
   "cell_type": "code",
   "execution_count": 13,
   "metadata": {},
   "outputs": [],
   "source": [
    "# # 17000개의 3D shape point cloud가 담긴 데이터세트 (레이블은 16개의 클래스를 가짐)\n",
    "# from torch_geometric.datasets import ShapeNet\n",
    "\n",
    "# shapeNet_dataset = ShapeNet(root='/tmp/ShapeNet', categories=['Motorbike'])"
   ]
  }
 ],
 "metadata": {
  "kernelspec": {
   "display_name": "Python 3",
   "language": "python",
   "name": "python3"
  },
  "language_info": {
   "name": "python",
   "version": "3.7.15 (default, Nov 24 2022, 18:44:54) [MSC v.1916 64 bit (AMD64)]"
  },
  "vscode": {
   "interpreter": {
    "hash": "98fb658fc8779e6136f671765f304aa90b381a69e0e3fde0fbe10c53a5640cfd"
   }
  }
 },
 "nbformat": 4,
 "nbformat_minor": 2
}
