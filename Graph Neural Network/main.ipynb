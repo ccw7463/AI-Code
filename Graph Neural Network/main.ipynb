{
 "cells": [
  {
   "cell_type": "code",
   "execution_count": null,
   "metadata": {},
   "outputs": [],
   "source": []
  }
 ],
 "metadata": {
  "kernelspec": {
   "display_name": "RL",
   "language": "python",
   "name": "python3"
  },
  "language_info": {
   "name": "python",
   "version": "3.7.15 (default, Nov 24 2022, 18:44:54) [MSC v.1916 64 bit (AMD64)]"
  },
  "orig_nbformat": 4,
  "vscode": {
   "interpreter": {
    "hash": "e0a05f60a0948a31f3e2c9d1be78b1d8f753b341d53a8e93b1b876eb808f11e8"
   }
  }
 },
 "nbformat": 4,
 "nbformat_minor": 2
}
