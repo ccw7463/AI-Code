{
  "cells": [
    {
      "attachments": {},
      "cell_type": "markdown",
      "metadata": {},
      "source": [
        "#### 참고코드 : https://github.com/wikibook/tf2"
      ]
    },
    {
      "cell_type": "code",
      "execution_count": 1,
      "metadata": {
        "id": "yJKk4l8mPHaZ"
      },
      "outputs": [],
      "source": [
        "import tensorflow_datasets as tfds\n",
        "import matplotlib.pyplot as plt\n",
        "from tqdm import tqdm\n",
        "import tensorflow as tf"
      ]
    },
    {
      "cell_type": "code",
      "execution_count": null,
      "metadata": {
        "id": "gYaYGse8JgBb"
      },
      "outputs": [],
      "source": [
        "dataset = tfds.load(name='imagenet_v2')"
      ]
    },
    {
      "cell_type": "code",
      "execution_count": null,
      "metadata": {
        "id": "nJafRPaNLNtq"
      },
      "outputs": [],
      "source": [
        "images = []\n",
        "labels = []\n",
        "for i in tqdm(dataset['test']):\n",
        "    images.append(i['image'])\n",
        "    labels.append(i['label'])"
      ]
    },
    {
      "cell_type": "code",
      "execution_count": null,
      "metadata": {
        "id": "tvBpRxViNtt8"
      },
      "outputs": [],
      "source": [
        "plt.figure(figsize=[12,12])\n",
        "for i in range(9):\n",
        "    plt.subplot(3,3,i+1)\n",
        "    plt.imshow(images[i])\n",
        "    plt.title(f'index number :{labels[i].numpy()}')"
      ]
    },
    {
      "cell_type": "code",
      "execution_count": null,
      "metadata": {
        "id": "C_aBuOJfN6JC"
      },
      "outputs": [],
      "source": [
        "# 원본 이미지에서 조각을 추출하고 입력, 출력 데이터를 반환하는 함수 정의\n",
        "def get_hr_and_lr(img):\n",
        "    img = tf.image.convert_image_dtype(img, tf.float32)\n",
        "    y = tf.image.random_crop(img, [50, 50, 3])\n",
        "    x = tf.image.resize(y, [25, 25])\n",
        "    x = tf.image.resize(x, [50, 50])\n",
        "    return x, y"
      ]
    },
    {
      "cell_type": "code",
      "execution_count": null,
      "metadata": {
        "id": "mSN1NmGVP6LS"
      },
      "outputs": [],
      "source": [
        "X_data = []\n",
        "Y_data = []\n",
        "for img in tqdm(images):\n",
        "    X,Y = get_hr_and_lr(img)\n",
        "    X_data.append(X)\n",
        "    Y_data.append(Y)"
      ]
    },
    {
      "cell_type": "code",
      "execution_count": null,
      "metadata": {
        "id": "PF4vhZpaQaYA"
      },
      "outputs": [],
      "source": [
        "plt.figure(figsize=[12,12])\n",
        "for i in [1,3]:\n",
        "    plt.subplot(2,2,i)\n",
        "    plt.imshow(X_data[i])\n",
        "    plt.subplot(2,2,i+1)\n",
        "    plt.imshow(Y_data[i+1])"
      ]
    },
    {
      "cell_type": "code",
      "execution_count": null,
      "metadata": {
        "id": "Y7qGNiQGPL4n"
      },
      "outputs": [],
      "source": [
        "from sklearn.model_selection import train_test_split\n",
        "import numpy as np"
      ]
    },
    {
      "cell_type": "code",
      "execution_count": null,
      "metadata": {
        "id": "PwZ83E3kQ_cm"
      },
      "outputs": [],
      "source": [
        "train_X, valid_X, train_Y, valid_Y = train_test_split(X_data,Y_data,train_size=0.8)\n",
        "valid_X, test_X, valid_Y, test_Y = train_test_split(valid_X,valid_Y,train_size=0.5)\n",
        "train_X = np.array(train_X)\n",
        "valid_X = np.array(valid_X)\n",
        "test_X = np.array(test_X)\n",
        "train_Y = np.array(train_Y)\n",
        "valid_Y = np.array(valid_Y)\n",
        "test_Y = np.array(test_Y)\n",
        "\n",
        "print(train_X.shape)\n",
        "print(valid_X.shape)\n",
        "print(test_X.shape)\n",
        "print(train_Y.shape)\n",
        "print(valid_Y.shape)\n",
        "print(test_Y.shape)"
      ]
    },
    {
      "cell_type": "code",
      "execution_count": null,
      "metadata": {
        "id": "VmlVb950QbWb"
      },
      "outputs": [],
      "source": [
        "# tf.keras의 함수형 API를 사용한 REDNet 네트워크 정의\n",
        "def REDNet(num_layers):\n",
        "    conv_layers = []\n",
        "    deconv_layers = []\n",
        "    residual_layers = []\n",
        "\n",
        "    inputs = tf.keras.layers.Input(shape=(None, None, 3))\n",
        "    conv_layers.append(tf.keras.layers.Conv2D(3, kernel_size=3, padding='same', activation='relu'))\n",
        "\n",
        "    for i in range(num_layers-1):\n",
        "        conv_layers.append(tf.keras.layers.Conv2D(64, kernel_size=3, padding='same', activation='relu'))\n",
        "        deconv_layers.append(tf.keras.layers.Conv2DTranspose(64, kernel_size=3, padding='same', activation='relu'))\n",
        "\n",
        "    deconv_layers.append(tf.keras.layers.Conv2DTranspose(3, kernel_size=3, padding='same'))\n",
        "\n",
        "    # 인코더 시작\n",
        "    x = conv_layers[0](inputs)\n",
        "\n",
        "    for i in range(num_layers-1):\n",
        "        x = conv_layers[i+1](x)\n",
        "        if i % 2 == 0:\n",
        "            residual_layers.append(x)\n",
        "\n",
        "    # 디코더 시작\n",
        "    for i in range(num_layers-1):\n",
        "        if i % 2 == 1:\n",
        "            x = tf.keras.layers.Add()([x, residual_layers.pop()])\n",
        "            x = tf.keras.layers.Activation('relu')(x)\n",
        "        x = deconv_layers[i](x) \n",
        "\n",
        "    x = deconv_layers[-1](x)\n",
        "    \n",
        "    model = tf.keras.Model(inputs=inputs, outputs=x)\n",
        "    return model"
      ]
    },
    {
      "cell_type": "code",
      "execution_count": null,
      "metadata": {
        "id": "I2EPQWRwQeUA"
      },
      "outputs": [],
      "source": [
        "# PSNR 정의\n",
        "def psnr_metric(y_true, y_pred):\n",
        "    return tf.image.psnr(y_true, y_pred, max_val=1.0)"
      ]
    },
    {
      "cell_type": "code",
      "execution_count": null,
      "metadata": {
        "id": "OdQpVm3-QgwD"
      },
      "outputs": [],
      "source": [
        "# REDNet-30 네트워크 초기화 및 컴파일\n",
        "model = REDNet(15)\n",
        "model.compile(optimizer=tf.optimizers.Adam(0.0001), loss='mse', metrics=[psnr_metric])"
      ]
    },
    {
      "cell_type": "code",
      "execution_count": null,
      "metadata": {
        "id": "c-DgQOfuSUep"
      },
      "outputs": [],
      "source": [
        "# REDNet-30 네트워크 학습\n",
        "history = model.fit(train_X,train_Y,\n",
        "                    epochs=1000, \n",
        "                    validation_data=[valid_X,valid_Y])"
      ]
    },
    {
      "cell_type": "code",
      "execution_count": null,
      "metadata": {
        "id": "OdsTFPUoSGkE"
      },
      "outputs": [],
      "source": []
    }
  ],
  "metadata": {
    "colab": {
      "private_outputs": true,
      "provenance": []
    },
    "kernelspec": {
      "display_name": "CFD",
      "language": "python",
      "name": "python3"
    },
    "language_info": {
      "codemirror_mode": {
        "name": "ipython",
        "version": 3
      },
      "file_extension": ".py",
      "mimetype": "text/x-python",
      "name": "python",
      "nbconvert_exporter": "python",
      "pygments_lexer": "ipython3",
      "version": "3.7.0 (default, Jun 28 2018, 08:04:48) [MSC v.1912 64 bit (AMD64)]"
    },
    "vscode": {
      "interpreter": {
        "hash": "7a8dd9c65a17e20a8aeef781e7419e99c7b4bbc7cdee28283210b8f3049ddf4f"
      }
    }
  },
  "nbformat": 4,
  "nbformat_minor": 0
}
