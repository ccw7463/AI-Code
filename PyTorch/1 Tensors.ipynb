{
 "cells": [
  {
   "cell_type": "code",
   "execution_count": 18,
   "metadata": {},
   "outputs": [],
   "source": [
    "import torch"
   ]
  },
  {
   "cell_type": "code",
   "execution_count": 19,
   "metadata": {},
   "outputs": [
    {
     "data": {
      "text/plain": [
       "'1.12.1'"
      ]
     },
     "execution_count": 19,
     "metadata": {},
     "output_type": "execute_result"
    }
   ],
   "source": [
    "torch.__version__"
   ]
  },
  {
   "cell_type": "markdown",
   "metadata": {},
   "source": [
    "#### 1. 데이터생성"
   ]
  },
  {
   "cell_type": "code",
   "execution_count": 30,
   "metadata": {},
   "outputs": [],
   "source": [
    "# 초기화되지 않은 텐서생성\n",
    "x = torch.empty(4,2) \n",
    "\n",
    "# 무작위로 초기화된 텐서생성 (0~1 사이)\n",
    "x = torch.rand(4,2)\n",
    "\n",
    "# 사용자가 입력한 텐서\n",
    "x = torch.tensor([[1,2],[3,4],[5,6],[7,8]])\n",
    "\n",
    "# 0, 1 로 채워진 텐서\n",
    "x = torch.ones(4,2)\n",
    "x = torch.zeros(4,2)\n",
    "\n",
    "# 같은 크기를 가지는 무작위 텐서 생성\n",
    "data = torch.tensor([[1,2],[3,4],[5,6],[7,8]])\n",
    "x = torch.randn_like(data,dtype=float)"
   ]
  },
  {
   "cell_type": "code",
   "execution_count": 36,
   "metadata": {},
   "outputs": [
    {
     "name": "stdout",
     "output_type": "stream",
     "text": [
      "torch.DoubleTensor\n",
      "torch.float64\n",
      "torch.Size([4, 2])\n",
      "torch.Size([4, 2])\n"
     ]
    }
   ],
   "source": [
    "# 타입 리턴\n",
    "print(x.type())\n",
    "\n",
    "# 타입 리턴 (자세히)\n",
    "print(x.dtype)\n",
    "\n",
    "# shape 리턴\n",
    "print(x.shape)\n",
    "\n",
    "# shape 리턴\n",
    "print(x.size())"
   ]
  },
  {
   "cell_type": "markdown",
   "metadata": {},
   "source": [
    "#### 2. GPU와 CPU이동"
   ]
  },
  {
   "cell_type": "code",
   "execution_count": 43,
   "metadata": {},
   "outputs": [
    {
     "name": "stdout",
     "output_type": "stream",
     "text": [
      "tensor([[-0.8083, -0.7392],\n",
      "        [-0.9503, -1.2524],\n",
      "        [-0.6635, -0.5307]])\n",
      "cpu\n"
     ]
    }
   ],
   "source": [
    "x = torch.randn(3,2)\n",
    "print(x)\n",
    "print(x.device)"
   ]
  },
  {
   "cell_type": "code",
   "execution_count": 44,
   "metadata": {},
   "outputs": [
    {
     "data": {
      "text/plain": [
       "device(type='cuda')"
      ]
     },
     "execution_count": 44,
     "metadata": {},
     "output_type": "execute_result"
    }
   ],
   "source": [
    "device = torch.device('cuda' if torch.cuda.is_available() else 'cpu')\n",
    "device"
   ]
  },
  {
   "cell_type": "code",
   "execution_count": 45,
   "metadata": {},
   "outputs": [
    {
     "name": "stdout",
     "output_type": "stream",
     "text": [
      "tensor([[-0.8083, -0.7392],\n",
      "        [-0.9503, -1.2524],\n",
      "        [-0.6635, -0.5307]], device='cuda:0', dtype=torch.float64)\n",
      "cuda:0\n"
     ]
    }
   ],
   "source": [
    "x = x.to(device, torch.double)\n",
    "print(x)\n",
    "print(x.device)"
   ]
  },
  {
   "cell_type": "markdown",
   "metadata": {},
   "source": [
    "#### 3. 텐서연산"
   ]
  },
  {
   "cell_type": "markdown",
   "metadata": {},
   "source": [
    "(1) 기본연산"
   ]
  },
  {
   "cell_type": "code",
   "execution_count": 54,
   "metadata": {},
   "outputs": [
    {
     "name": "stdout",
     "output_type": "stream",
     "text": [
      "tensor([[0.8083, 0.7392],\n",
      "        [0.9503, 1.2524],\n",
      "        [0.6635, 0.5307]], device='cuda:0', dtype=torch.float64)\n",
      "tensor(-1.2524, device='cuda:0', dtype=torch.float64)\n",
      "tensor(-0.5307, device='cuda:0', dtype=torch.float64)\n",
      "tensor(-0.8241, device='cuda:0', dtype=torch.float64)\n",
      "tensor(0.2525, device='cuda:0', dtype=torch.float64)\n",
      "tensor(0.2504, device='cuda:0', dtype=torch.float64)\n",
      "tensor([[-0., -0.],\n",
      "        [-0., -1.],\n",
      "        [-0., -0.]], device='cuda:0', dtype=torch.float64)\n",
      "tensor([[-1., -1.],\n",
      "        [-1., -2.],\n",
      "        [-1., -1.]], device='cuda:0', dtype=torch.float64)\n"
     ]
    }
   ],
   "source": [
    "print(torch.abs(x))\n",
    "print(torch.min(x))\n",
    "print(torch.max(x))\n",
    "print(torch.mean(x))\n",
    "print(torch.std(x))\n",
    "print(torch.prod(x))\n",
    "print(torch.ceil(x))\n",
    "print(torch.floor(x))"
   ]
  },
  {
   "cell_type": "markdown",
   "metadata": {},
   "source": [
    "(2) 행렬연산"
   ]
  },
  {
   "cell_type": "code",
   "execution_count": 95,
   "metadata": {},
   "outputs": [
    {
     "name": "stdout",
     "output_type": "stream",
     "text": [
      "torch.Size([2, 3])\n",
      "torch.Size([2, 3])\n",
      "torch.Size([3, 2])\n",
      "tensor([[  1.4303,  -0.8309,  -0.1673],\n",
      "        [ -3.0072, -10.9429,   1.8235]], dtype=torch.float64)\n",
      "tensor([[  0.4321,  -4.2172],\n",
      "        [  3.3092, -12.1266]], dtype=torch.float64)\n"
     ]
    }
   ],
   "source": [
    "x = torch.tensor([[1,2,3],[4,5,6]],dtype=float) \n",
    "y = torch.randn_like(x,dtype=float)\n",
    "y_t = y.T\n",
    "\n",
    "print(x.shape)\n",
    "print(y.shape)\n",
    "print(y_t.shape)\n",
    "\n",
    "# element-wise product\n",
    "print(x*y)\n",
    "\n",
    "# 행렬연산\n",
    "print(torch.matmul(x,y_t))"
   ]
  },
  {
   "cell_type": "markdown",
   "metadata": {},
   "source": [
    "(3) 그 외 연산"
   ]
  },
  {
   "cell_type": "code",
   "execution_count": 58,
   "metadata": {},
   "outputs": [
    {
     "name": "stdout",
     "output_type": "stream",
     "text": [
      "tensor([1, 2, 3, 4, 1, 2, 3, 1])\n",
      "tensor([1, 2, 3, 4])\n"
     ]
    }
   ],
   "source": [
    "x = torch.tensor([1,2,3,4,1,2,3,1])\n",
    "x_set = torch.unique(x)\n",
    "\n",
    "print(x)\n",
    "print(x_set)"
   ]
  },
  {
   "cell_type": "code",
   "execution_count": 61,
   "metadata": {},
   "outputs": [
    {
     "name": "stdout",
     "output_type": "stream",
     "text": [
      "tensor([1, 2, 3, 4, 1, 2, 3, 1])\n",
      "tensor([1.5000, 2.0000, 2.5000, 2.5000, 1.5000, 2.0000, 2.5000, 1.5000])\n"
     ]
    }
   ],
   "source": [
    "x = torch.tensor([1,2,3,4,1,2,3,1])\n",
    "x_clamp = torch.clamp(x,1.5,2.5)\n",
    "\n",
    "print(x)\n",
    "print(x_clamp)"
   ]
  },
  {
   "cell_type": "code",
   "execution_count": 66,
   "metadata": {},
   "outputs": [
    {
     "name": "stdout",
     "output_type": "stream",
     "text": [
      "tensor([[0.7002, 0.5021, 0.8545, 0.2372],\n",
      "        [0.0192, 0.5245, 0.7978, 0.5102],\n",
      "        [0.1585, 0.4971, 0.7144, 0.5225]])\n",
      "torch.return_types.max(\n",
      "values=tensor([0.7002, 0.5245, 0.8545, 0.5225]),\n",
      "indices=tensor([0, 1, 0, 2]))\n"
     ]
    }
   ],
   "source": [
    "x = torch.rand(3,4)\n",
    "arg = x.max(dim=0)\n",
    "\n",
    "print(x)\n",
    "print(arg)"
   ]
  }
 ],
 "metadata": {
  "kernelspec": {
   "display_name": "cv_torch",
   "language": "python",
   "name": "cv_torch"
  },
  "language_info": {
   "codemirror_mode": {
    "name": "ipython",
    "version": 3
   },
   "file_extension": ".py",
   "mimetype": "text/x-python",
   "name": "python",
   "nbconvert_exporter": "python",
   "pygments_lexer": "ipython3",
   "version": "3.7.13"
  },
  "orig_nbformat": 4
 },
 "nbformat": 4,
 "nbformat_minor": 2
}
