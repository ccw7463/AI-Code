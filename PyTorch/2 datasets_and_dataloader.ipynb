{
 "cells": [
  {
   "cell_type": "code",
   "execution_count": 75,
   "metadata": {},
   "outputs": [],
   "source": [
    "import pandas as pd\n",
    "import numpy as np\n",
    "import matplotlib.pyplot as plt"
   ]
  },
  {
   "cell_type": "code",
   "execution_count": 74,
   "metadata": {},
   "outputs": [],
   "source": [
    "# 데이터 다운 사이트 : https://www.kaggle.com/datasets/zalando-research/fashionmnist"
   ]
  },
  {
   "cell_type": "markdown",
   "metadata": {},
   "source": [
    "#### 1. 사전생성된 데이터 로드"
   ]
  },
  {
   "cell_type": "code",
   "execution_count": 2,
   "metadata": {},
   "outputs": [],
   "source": [
    "from torchvision import datasets\n",
    "import torchvision.transforms as transforms\n",
    "training_data = datasets.FashionMNIST(\n",
    "    root=\"data\", # train과 test데이터가 저장된 경로\n",
    "    train=True, # 학습인지 테스트인지 명시\n",
    "    download=True, # root 경로에서 불러와지지 않을경우 인터넷에서 다운로드해올것인지?\n",
    "    transform=transforms.ToTensor() # feature와 label 전처리 필요사항 명시\n",
    ")\n",
    "\n",
    "test_data = datasets.FashionMNIST(\n",
    "    root=\"data\", # train과 test데이터가 저장된 경로\n",
    "    train=False, # 학습인지 테스트인지 명시\n",
    "    download=True, # root 경로에서 불러와지지 않을경우 인터넷에서 다운로드해올것인지?\n",
    "    transform=transforms.ToTensor() # feature와 label 전처리 필요사항 명시\n",
    ")"
   ]
  },
  {
   "cell_type": "code",
   "execution_count": 22,
   "metadata": {},
   "outputs": [],
   "source": [
    "from torch.utils.data import DataLoader\n",
    "\n",
    "train_dataloader = DataLoader(training_data, batch_size=64, shuffle=True)\n",
    "test_dataloader = DataLoader(test_data, batch_size=64, shuffle=True)"
   ]
  },
  {
   "cell_type": "code",
   "execution_count": 20,
   "metadata": {},
   "outputs": [
    {
     "name": "stdout",
     "output_type": "stream",
     "text": [
      "input batch shape: torch.Size([64, 1, 28, 28])\n",
      "output batch shape: torch.Size([64])\n"
     ]
    },
    {
     "data": {
      "image/png": "[encoded data removed]",
      "text/plain": [
       "<Figure size 200x200 with 1 Axes>"
      ]
     },
     "metadata": {},
     "output_type": "display_data"
    },
    {
     "name": "stdout",
     "output_type": "stream",
     "text": [
      "Label: 7\n"
     ]
    }
   ],
   "source": [
    "# 이미지 플로팅\n",
    "input, output = next(iter(train_dataloader))\n",
    "\n",
    "print(f\"input batch shape: {input.size()}\")\n",
    "print(f\"output batch shape: {output.size()}\")\n",
    "\n",
    "idx = 0\n",
    "img = input[idx].squeeze()\n",
    "label = output[idx]\n",
    "plt.figure(figsize=[2,2])\n",
    "plt.imshow(img, cmap=\"gray\")\n",
    "plt.show()\n",
    "print(f\"Label: {label}\")"
   ]
  },
  {
   "cell_type": "markdown",
   "metadata": {},
   "source": [
    "#### 2. 사용자 정의 데이터세트"
   ]
  },
  {
   "cell_type": "code",
   "execution_count": 66,
   "metadata": {},
   "outputs": [],
   "source": [
    "from torch.utils.data import Dataset\n",
    "\n",
    "# 사용자 정의 데이터세트 클래스 구성\n",
    "# 1. __init__\n",
    "# 2. __len__\n",
    "# 3. __getitem__\n",
    "\n",
    "class CustomDataset(Dataset):\n",
    "    \n",
    "    # 객체생성시 한번실행\n",
    "    # 데이터경로와 transform 정의 등..\n",
    "    def __init__(self, data_path, transform=None, target_transform=None):\n",
    "        \n",
    "        data = pd.read_csv(data_path)\n",
    "        Y_data = data['label']\n",
    "        Y_data = np.array(Y_data)\n",
    "        X_data = data.drop(columns='label',axis=1)\n",
    "        X_data = np.array(X_data).reshape(-1,28,28,1).astype('float32')\n",
    "        self.X_data = X_data\n",
    "        self.Y_data = Y_data\n",
    "        self.transform = transform\n",
    "        self.target_transform = target_transform\n",
    "\n",
    "    # 데이터세트의 총 개수를 리턴\n",
    "    def __len__(self):\n",
    "        return len(self.Y_data)\n",
    "\n",
    "    # 인덱스를 기반으로 데이터세트로부터 샘플을 가져오는 함수 \n",
    "    # 튜플형태로 리턴 : (입력,출력)\n",
    "    def __getitem__(self, idx):            \n",
    "\n",
    "        # 데이터 지정\n",
    "        image = self.X_data[idx]\n",
    "        label = self.Y_data[idx]\n",
    "        \n",
    "        # 입력 데이터 전처리\n",
    "        if self.transform:\n",
    "            image = self.transform(image)\n",
    "\n",
    "        # 출력 데이터 전처리\n",
    "        if self.target_transform:\n",
    "            label = self.target_transform(label)\n",
    "\n",
    "        return image, label"
   ]
  },
  {
   "cell_type": "code",
   "execution_count": 72,
   "metadata": {},
   "outputs": [],
   "source": [
    "# 데이터전처리위한 transform 을 정의할때 여러단계일경우 묶는 기능을 Compose로 할 수 있음\n",
    "import torchvision.transforms as transforms\n",
    "\n",
    "train_path = \"dataset/fashion-mnist_train.csv\"\n",
    "test_path = \"dataset/fashion-mnist_test.csv\"\n",
    "\n",
    "# transforms.ToTensor() : PIL이미지,Numpy 배열 --> Pytorch image tensor로 변환 (배열구조 변경 및 scale 변환됨)\n",
    "train_dataset = CustomDataset(train_path,\n",
    "                              transform=transforms.Compose([transforms.ToTensor()]))\n",
    "\n",
    "\n",
    "test_dataset = CustomDataset(test_path,\n",
    "                             transform=transforms.Compose([transforms.ToTensor()]))"
   ]
  },
  {
   "cell_type": "code",
   "execution_count": 73,
   "metadata": {},
   "outputs": [],
   "source": [
    "# \"생성한 데이터세트 클래스\"를 상속받은 \"객체\"를 입력으로 받음\n",
    "# 데이터세트에서 데이터를 iterable 하게 가져옴\n",
    "from torch.utils.data import DataLoader\n",
    "\n",
    "train_loader = DataLoader(train_dataset, batch_size=64, shuffle=True)\n",
    "test_loader = DataLoader(test_dataset, batch_size=64, shuffle=True)"
   ]
  },
  {
   "cell_type": "code",
   "execution_count": 71,
   "metadata": {},
   "outputs": [
    {
     "name": "stdout",
     "output_type": "stream",
     "text": [
      "input batch shape: torch.Size([64, 1, 28, 28])\n",
      "output batch shape: torch.Size([64])\n"
     ]
    },
    {
     "data": {
      "image/png": "[encoded data removed]",
      "text/plain": [
       "<Figure size 200x200 with 1 Axes>"
      ]
     },
     "metadata": {},
     "output_type": "display_data"
    },
    {
     "name": "stdout",
     "output_type": "stream",
     "text": [
      "Label: 9\n"
     ]
    }
   ],
   "source": [
    "# 이미지 플로팅\n",
    "input, output = next(iter(train_loader))\n",
    "print(f\"input batch shape: {input.size()}\")\n",
    "print(f\"output batch shape: {output.size()}\")\n",
    "\n",
    "idx = 1\n",
    "img = input[idx].squeeze()\n",
    "label = output[idx]\n",
    "plt.figure(figsize=[2,2])\n",
    "plt.imshow(img, cmap=\"gray\")\n",
    "plt.show()\n",
    "print(f\"Label: {label}\")"
   ]
  }
 ],
 "metadata": {
  "kernelspec": {
   "display_name": "pytorch",
   "language": "python",
   "name": "pytorch"
  },
  "language_info": {
   "codemirror_mode": {
    "name": "ipython",
    "version": 3
   },
   "file_extension": ".py",
   "mimetype": "text/x-python",
   "name": "python",
   "nbconvert_exporter": "python",
   "pygments_lexer": "ipython3",
   "version": "3.7.15"
  },
  "orig_nbformat": 4,
  "vscode": {
   "interpreter": {
    "hash": "e2242436020db2eda2a1790ecf3e6f11b78cd239aa8b14ee0f0253641beeacf8"
   }
  }
 },
 "nbformat": 4,
 "nbformat_minor": 2
}
